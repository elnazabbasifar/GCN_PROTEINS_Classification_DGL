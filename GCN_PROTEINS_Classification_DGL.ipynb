{
  "nbformat": 4,
  "nbformat_minor": 0,
  "metadata": {
    "colab": {
      "provenance": [],
      "authorship_tag": "ABX9TyN01ge5ldCRP/WuiqXJM0dU",
      "include_colab_link": true
    },
    "kernelspec": {
      "name": "python3",
      "display_name": "Python 3"
    },
    "language_info": {
      "name": "python"
    }
  },
  "cells": [
    {
      "cell_type": "markdown",
      "metadata": {
        "id": "view-in-github",
        "colab_type": "text"
      },
      "source": [
        "<a href=\"https://colab.research.google.com/github/elnazabbasifar/GCN_PROTEINS_Classification_DGL/blob/main/GCN_PROTEINS_Classification_DGL.ipynb\" target=\"_parent\"><img src=\"https://colab.research.google.com/assets/colab-badge.svg\" alt=\"Open In Colab\"/></a>"
      ]
    },
    {
      "cell_type": "markdown",
      "metadata": {
        "id": "vLukjtqB-Vf8"
      },
      "source": [
        "# Graph Classification with GCN on PROTEINS Dataset\n",
        "\n",
        "**Objective:**\n",
        "This notebook demonstrates how to build and train a Graph Convolutional Network (GCN) using the DGL library for graph classification on the PROTEINS dataset. The task is to classify each protein (graph) into one of 2 classes based on its structural characteristics.\n",
        "\n",
        "**Why PROTEINS Dataset?**\n",
        "PROTEINS is a dataset where graphs represent protein structures. Nodes are amino acids, and edges represent connections between them. The task is binary classification (2 classes). This dataset serves as a benchmark for evaluating graph neural networks on biological data, requiring the model to capture relevant structural patterns for classification.\n",
        "\n",
        "**Dataset:** PROTEINS from TUDataset (1113 graphs, 2 classes)\n",
        "\n",
        "**Model:** Graph Convolutional Network (GCN) with multiple convolution layers, global mean pooling, and a linear classification head. We explored a 3-layer GCN with dropout.\n",
        "\n",
        "**Implementation:** Based on the DGL library, utilizing PyTorch for model definition and training.\n",
        "\n",
        "**Result:** Achieved an average test accuracy of approximately 70% using 5-fold cross-validation."
      ]
    },
    {
      "cell_type": "markdown",
      "source": [
        "### 1. Install and Import Libraries:"
      ],
      "metadata": {
        "id": "-L8sbPLGgk4i"
      }
    },
    {
      "cell_type": "code",
      "source": [
        "!pip install torch==2.3.1 torchvision==0.18.1 torchaudio==2.3.1 torchdata==0.7.1\n",
        "!pip install dgl==2.0.0+cu121 -f https://data.dgl.ai/wheels/cu121/repo.html"
      ],
      "metadata": {
        "colab": {
          "base_uri": "https://localhost:8080/",
          "height": 0
        },
        "collapsed": true,
        "id": "1CGTLGBCr34l",
        "outputId": "3ac6837b-a284-47c3-daeb-33e18eab7194"
      },
      "execution_count": 1,
      "outputs": [
        {
          "output_type": "stream",
          "name": "stdout",
          "text": [
            "Requirement already satisfied: torch==2.3.1 in /usr/local/lib/python3.11/dist-packages (2.3.1)\n",
            "Requirement already satisfied: torchvision==0.18.1 in /usr/local/lib/python3.11/dist-packages (0.18.1)\n",
            "Requirement already satisfied: torchaudio==2.3.1 in /usr/local/lib/python3.11/dist-packages (2.3.1)\n",
            "Requirement already satisfied: torchdata==0.7.1 in /usr/local/lib/python3.11/dist-packages (0.7.1)\n",
            "Requirement already satisfied: filelock in /usr/local/lib/python3.11/dist-packages (from torch==2.3.1) (3.18.0)\n",
            "Requirement already satisfied: typing-extensions>=4.8.0 in /usr/local/lib/python3.11/dist-packages (from torch==2.3.1) (4.14.0)\n",
            "Requirement already satisfied: sympy in /usr/local/lib/python3.11/dist-packages (from torch==2.3.1) (1.13.1)\n",
            "Requirement already satisfied: networkx in /usr/local/lib/python3.11/dist-packages (from torch==2.3.1) (3.5)\n",
            "Requirement already satisfied: jinja2 in /usr/local/lib/python3.11/dist-packages (from torch==2.3.1) (3.1.6)\n",
            "Requirement already satisfied: fsspec in /usr/local/lib/python3.11/dist-packages (from torch==2.3.1) (2025.3.2)\n",
            "Requirement already satisfied: nvidia-cuda-nvrtc-cu12==12.1.105 in /usr/local/lib/python3.11/dist-packages (from torch==2.3.1) (12.1.105)\n",
            "Requirement already satisfied: nvidia-cuda-runtime-cu12==12.1.105 in /usr/local/lib/python3.11/dist-packages (from torch==2.3.1) (12.1.105)\n",
            "Requirement already satisfied: nvidia-cuda-cupti-cu12==12.1.105 in /usr/local/lib/python3.11/dist-packages (from torch==2.3.1) (12.1.105)\n",
            "Requirement already satisfied: nvidia-cudnn-cu12==8.9.2.26 in /usr/local/lib/python3.11/dist-packages (from torch==2.3.1) (8.9.2.26)\n",
            "Requirement already satisfied: nvidia-cublas-cu12==12.1.3.1 in /usr/local/lib/python3.11/dist-packages (from torch==2.3.1) (12.1.3.1)\n",
            "Requirement already satisfied: nvidia-cufft-cu12==11.0.2.54 in /usr/local/lib/python3.11/dist-packages (from torch==2.3.1) (11.0.2.54)\n",
            "Requirement already satisfied: nvidia-curand-cu12==10.3.2.106 in /usr/local/lib/python3.11/dist-packages (from torch==2.3.1) (10.3.2.106)\n",
            "Requirement already satisfied: nvidia-cusolver-cu12==11.4.5.107 in /usr/local/lib/python3.11/dist-packages (from torch==2.3.1) (11.4.5.107)\n",
            "Requirement already satisfied: nvidia-cusparse-cu12==12.1.0.106 in /usr/local/lib/python3.11/dist-packages (from torch==2.3.1) (12.1.0.106)\n",
            "Requirement already satisfied: nvidia-nccl-cu12==2.20.5 in /usr/local/lib/python3.11/dist-packages (from torch==2.3.1) (2.20.5)\n",
            "Requirement already satisfied: nvidia-nvtx-cu12==12.1.105 in /usr/local/lib/python3.11/dist-packages (from torch==2.3.1) (12.1.105)\n",
            "Requirement already satisfied: triton==2.3.1 in /usr/local/lib/python3.11/dist-packages (from torch==2.3.1) (2.3.1)\n",
            "Requirement already satisfied: numpy in /usr/local/lib/python3.11/dist-packages (from torchvision==0.18.1) (2.0.2)\n",
            "Requirement already satisfied: pillow!=8.3.*,>=5.3.0 in /usr/local/lib/python3.11/dist-packages (from torchvision==0.18.1) (11.2.1)\n",
            "Requirement already satisfied: urllib3>=1.25 in /usr/local/lib/python3.11/dist-packages (from torchdata==0.7.1) (2.4.0)\n",
            "Requirement already satisfied: requests in /usr/local/lib/python3.11/dist-packages (from torchdata==0.7.1) (2.32.3)\n",
            "Requirement already satisfied: nvidia-nvjitlink-cu12 in /usr/local/lib/python3.11/dist-packages (from nvidia-cusolver-cu12==11.4.5.107->torch==2.3.1) (12.4.127)\n",
            "Requirement already satisfied: MarkupSafe>=2.0 in /usr/local/lib/python3.11/dist-packages (from jinja2->torch==2.3.1) (3.0.2)\n",
            "Requirement already satisfied: charset-normalizer<4,>=2 in /usr/local/lib/python3.11/dist-packages (from requests->torchdata==0.7.1) (3.4.2)\n",
            "Requirement already satisfied: idna<4,>=2.5 in /usr/local/lib/python3.11/dist-packages (from requests->torchdata==0.7.1) (3.10)\n",
            "Requirement already satisfied: certifi>=2017.4.17 in /usr/local/lib/python3.11/dist-packages (from requests->torchdata==0.7.1) (2025.6.15)\n",
            "Requirement already satisfied: mpmath<1.4,>=1.1.0 in /usr/local/lib/python3.11/dist-packages (from sympy->torch==2.3.1) (1.3.0)\n",
            "Looking in links: https://data.dgl.ai/wheels/cu121/repo.html\n",
            "Collecting dgl==2.0.0+cu121\n",
            "  Downloading https://data.dgl.ai/wheels/cu121/dgl-2.0.0%2Bcu121-cp311-cp311-manylinux1_x86_64.whl (926.0 MB)\n",
            "\u001b[2K     \u001b[90m━━━━━━━━━━━━━━━━━━━━━━━━━━━━━━━━━━━━━\u001b[0m \u001b[32m926.0/926.0 MB\u001b[0m \u001b[31m746.6 kB/s\u001b[0m eta \u001b[36m0:00:00\u001b[0m\n",
            "\u001b[?25hRequirement already satisfied: numpy>=1.14.0 in /usr/local/lib/python3.11/dist-packages (from dgl==2.0.0+cu121) (2.0.2)\n",
            "Requirement already satisfied: scipy>=1.1.0 in /usr/local/lib/python3.11/dist-packages (from dgl==2.0.0+cu121) (1.15.3)\n",
            "Requirement already satisfied: networkx>=2.1 in /usr/local/lib/python3.11/dist-packages (from dgl==2.0.0+cu121) (3.5)\n",
            "Requirement already satisfied: requests>=2.19.0 in /usr/local/lib/python3.11/dist-packages (from dgl==2.0.0+cu121) (2.32.3)\n",
            "Requirement already satisfied: tqdm in /usr/local/lib/python3.11/dist-packages (from dgl==2.0.0+cu121) (4.67.1)\n",
            "Requirement already satisfied: psutil>=5.8.0 in /usr/local/lib/python3.11/dist-packages (from dgl==2.0.0+cu121) (5.9.5)\n",
            "Requirement already satisfied: torchdata>=0.5.0 in /usr/local/lib/python3.11/dist-packages (from dgl==2.0.0+cu121) (0.7.1)\n",
            "Requirement already satisfied: charset-normalizer<4,>=2 in /usr/local/lib/python3.11/dist-packages (from requests>=2.19.0->dgl==2.0.0+cu121) (3.4.2)\n",
            "Requirement already satisfied: idna<4,>=2.5 in /usr/local/lib/python3.11/dist-packages (from requests>=2.19.0->dgl==2.0.0+cu121) (3.10)\n",
            "Requirement already satisfied: urllib3<3,>=1.21.1 in /usr/local/lib/python3.11/dist-packages (from requests>=2.19.0->dgl==2.0.0+cu121) (2.4.0)\n",
            "Requirement already satisfied: certifi>=2017.4.17 in /usr/local/lib/python3.11/dist-packages (from requests>=2.19.0->dgl==2.0.0+cu121) (2025.6.15)\n",
            "Requirement already satisfied: torch>=2 in /usr/local/lib/python3.11/dist-packages (from torchdata>=0.5.0->dgl==2.0.0+cu121) (2.3.1)\n",
            "Requirement already satisfied: filelock in /usr/local/lib/python3.11/dist-packages (from torch>=2->torchdata>=0.5.0->dgl==2.0.0+cu121) (3.18.0)\n",
            "Requirement already satisfied: typing-extensions>=4.8.0 in /usr/local/lib/python3.11/dist-packages (from torch>=2->torchdata>=0.5.0->dgl==2.0.0+cu121) (4.14.0)\n",
            "Requirement already satisfied: sympy in /usr/local/lib/python3.11/dist-packages (from torch>=2->torchdata>=0.5.0->dgl==2.0.0+cu121) (1.13.1)\n",
            "Requirement already satisfied: jinja2 in /usr/local/lib/python3.11/dist-packages (from torch>=2->torchdata>=0.5.0->dgl==2.0.0+cu121) (3.1.6)\n",
            "Requirement already satisfied: fsspec in /usr/local/lib/python3.11/dist-packages (from torch>=2->torchdata>=0.5.0->dgl==2.0.0+cu121) (2025.3.2)\n",
            "Requirement already satisfied: nvidia-cuda-nvrtc-cu12==12.1.105 in /usr/local/lib/python3.11/dist-packages (from torch>=2->torchdata>=0.5.0->dgl==2.0.0+cu121) (12.1.105)\n",
            "Requirement already satisfied: nvidia-cuda-runtime-cu12==12.1.105 in /usr/local/lib/python3.11/dist-packages (from torch>=2->torchdata>=0.5.0->dgl==2.0.0+cu121) (12.1.105)\n",
            "Requirement already satisfied: nvidia-cuda-cupti-cu12==12.1.105 in /usr/local/lib/python3.11/dist-packages (from torch>=2->torchdata>=0.5.0->dgl==2.0.0+cu121) (12.1.105)\n",
            "Requirement already satisfied: nvidia-cudnn-cu12==8.9.2.26 in /usr/local/lib/python3.11/dist-packages (from torch>=2->torchdata>=0.5.0->dgl==2.0.0+cu121) (8.9.2.26)\n",
            "Requirement already satisfied: nvidia-cublas-cu12==12.1.3.1 in /usr/local/lib/python3.11/dist-packages (from torch>=2->torchdata>=0.5.0->dgl==2.0.0+cu121) (12.1.3.1)\n",
            "Requirement already satisfied: nvidia-cufft-cu12==11.0.2.54 in /usr/local/lib/python3.11/dist-packages (from torch>=2->torchdata>=0.5.0->dgl==2.0.0+cu121) (11.0.2.54)\n",
            "Requirement already satisfied: nvidia-curand-cu12==10.3.2.106 in /usr/local/lib/python3.11/dist-packages (from torch>=2->torchdata>=0.5.0->dgl==2.0.0+cu121) (10.3.2.106)\n",
            "Requirement already satisfied: nvidia-cusolver-cu12==11.4.5.107 in /usr/local/lib/python3.11/dist-packages (from torch>=2->torchdata>=0.5.0->dgl==2.0.0+cu121) (11.4.5.107)\n",
            "Requirement already satisfied: nvidia-cusparse-cu12==12.1.0.106 in /usr/local/lib/python3.11/dist-packages (from torch>=2->torchdata>=0.5.0->dgl==2.0.0+cu121) (12.1.0.106)\n",
            "Requirement already satisfied: nvidia-nccl-cu12==2.20.5 in /usr/local/lib/python3.11/dist-packages (from torch>=2->torchdata>=0.5.0->dgl==2.0.0+cu121) (2.20.5)\n",
            "Requirement already satisfied: nvidia-nvtx-cu12==12.1.105 in /usr/local/lib/python3.11/dist-packages (from torch>=2->torchdata>=0.5.0->dgl==2.0.0+cu121) (12.1.105)\n",
            "Requirement already satisfied: triton==2.3.1 in /usr/local/lib/python3.11/dist-packages (from torch>=2->torchdata>=0.5.0->dgl==2.0.0+cu121) (2.3.1)\n",
            "Requirement already satisfied: nvidia-nvjitlink-cu12 in /usr/local/lib/python3.11/dist-packages (from nvidia-cusolver-cu12==11.4.5.107->torch>=2->torchdata>=0.5.0->dgl==2.0.0+cu121) (12.4.127)\n",
            "Requirement already satisfied: MarkupSafe>=2.0 in /usr/local/lib/python3.11/dist-packages (from jinja2->torch>=2->torchdata>=0.5.0->dgl==2.0.0+cu121) (3.0.2)\n",
            "Requirement already satisfied: mpmath<1.4,>=1.1.0 in /usr/local/lib/python3.11/dist-packages (from sympy->torch>=2->torchdata>=0.5.0->dgl==2.0.0+cu121) (1.3.0)\n",
            "Installing collected packages: dgl\n",
            "  Attempting uninstall: dgl\n",
            "    Found existing installation: dgl 2.1.0\n",
            "    Uninstalling dgl-2.1.0:\n",
            "      Successfully uninstalled dgl-2.1.0\n",
            "Successfully installed dgl-2.0.0+cu121\n"
          ]
        }
      ]
    },
    {
      "cell_type": "code",
      "source": [
        "import os\n",
        "os.environ[\"DGLBACKEND\"] = \"pytorch\"\n",
        "import dgl\n",
        "import dgl.data\n",
        "import torch\n",
        "import torch.nn as nn\n",
        "import torch.nn.functional as F\n",
        "from dgl.nn import GraphConv\n",
        "from dgl.dataloading import GraphDataLoader\n",
        "from torch.utils.data.sampler import SubsetRandomSampler\n",
        "import matplotlib.pyplot as plt"
      ],
      "metadata": {
        "id": "4w-o4CCmh6ft"
      },
      "execution_count": 2,
      "outputs": []
    },
    {
      "cell_type": "markdown",
      "source": [
        "### 1.1. Configuration"
      ],
      "metadata": {
        "id": "dzwCh-Riu7ss"
      }
    },
    {
      "cell_type": "code",
      "source": [
        "# Set random seeds for reproducibility to ensure consistent results\n",
        "torch.manual_seed(42)\n",
        "if torch.cuda.is_available():\n",
        "    torch.cuda.manual_seed(42)\n",
        "\n",
        "# Define the device to use (GPU if available, otherwise CPU)\n",
        "device = torch.device('cuda' if torch.cuda.is_available() else 'cpu')\n",
        "print(f\"Using device: {device}\")"
      ],
      "metadata": {
        "id": "cu1fqaFcu0YJ",
        "colab": {
          "base_uri": "https://localhost:8080/",
          "height": 0
        },
        "outputId": "d266b376-8414-4acd-9439-3240b172c578"
      },
      "execution_count": 3,
      "outputs": [
        {
          "output_type": "stream",
          "name": "stdout",
          "text": [
            "Using device: cpu\n"
          ]
        }
      ]
    },
    {
      "cell_type": "markdown",
      "source": [
        "### 2. Load and Prepare Graph Data:"
      ],
      "metadata": {
        "id": "idw8NeD5gxrd"
      }
    },
    {
      "cell_type": "code",
      "source": [
        "# Generate a synthetic dataset with 10000 graphs, ranging from 10 to 500 nodes.\n",
        "dataset = dgl.data.GINDataset(\"PROTEINS\", self_loop=True)"
      ],
      "metadata": {
        "id": "LdWumraeiIGV",
        "colab": {
          "base_uri": "https://localhost:8080/",
          "height": 0
        },
        "outputId": "9083e9f3-897d-4343-af34-d9d9aaf23d3c"
      },
      "execution_count": 4,
      "outputs": [
        {
          "metadata": {
            "tags": null
          },
          "name": "stdout",
          "output_type": "stream",
          "text": [
            "Downloading /root/.dgl/GINDataset.zip from https://raw.githubusercontent.com/weihua916/powerful-gnns/master/dataset.zip...\n"
          ]
        },
        {
          "metadata": {
            "tags": null
          },
          "name": "stderr",
          "output_type": "stream",
          "text": [
            "/root/.dgl/GINDataset.zip: 100%|██████████| 33.4M/33.4M [00:00<00:00, 73.7MB/s]\n"
          ]
        },
        {
          "metadata": {
            "tags": null
          },
          "name": "stdout",
          "output_type": "stream",
          "text": [
            "Extracting file to /root/.dgl/GINDataset\n"
          ]
        }
      ]
    },
    {
      "cell_type": "code",
      "source": [
        "# Print dataset statistics\n",
        "print(f'Dataset: {dataset}')\n",
        "print('======================')\n",
        "print(f'Number of graphs: {len(dataset)}')\n",
        "print(\"Node feature dimensionality:\", dataset.dim_nfeats)\n",
        "print(\"Number of graph categories (classes):\", dataset.gclasses)"
      ],
      "metadata": {
        "colab": {
          "base_uri": "https://localhost:8080/",
          "height": 0
        },
        "id": "h2COvqUiiU1t",
        "outputId": "de2c1c9b-aa8c-4aea-bd52-9654daeec24c"
      },
      "execution_count": 6,
      "outputs": [
        {
          "output_type": "stream",
          "name": "stdout",
          "text": [
            "Dataset: Dataset(\"PROTEINS\", num_graphs=1113, save_path=/root/.dgl/PROTEINS_0c2c49a1)\n",
            "======================\n",
            "Number of graphs: 1113\n",
            "Node feature dimensionality: 3\n",
            "Number of graph categories (classes): 2\n"
          ]
        }
      ]
    },
    {
      "cell_type": "code",
      "source": [
        "labels = torch.cat([data[1].unsqueeze(0) for data in dataset], dim=0)\n",
        "print(\"Class distribution in the whole dataset:\", torch.bincount(labels)) # Shows class distribution"
      ],
      "metadata": {
        "colab": {
          "base_uri": "https://localhost:8080/",
          "height": 0
        },
        "id": "kfOWmTPUCQw4",
        "outputId": "ed0ed0b7-9047-4877-83a1-f961b49f9822"
      },
      "execution_count": 10,
      "outputs": [
        {
          "output_type": "stream",
          "name": "stdout",
          "text": [
            "Class distribution in the whole dataset: tensor([663, 450])\n"
          ]
        }
      ]
    },
    {
      "cell_type": "markdown",
      "source": [
        "### 2.1. Data Splitting"
      ],
      "metadata": {
        "id": "BhTrYjgiiXV9"
      }
    },
    {
      "cell_type": "code",
      "source": [
        "from torch.utils.data.sampler import SubsetRandomSampler\n",
        "\n",
        "num_examples = len(dataset)\n",
        "num_train = int(num_examples * 0.8) # 80% for training\n",
        "num_test = num_examples - num_train # Remaining for testing\n",
        "\n",
        "train_sampler = SubsetRandomSampler(torch.arange(num_train))\n",
        "test_sampler = SubsetRandomSampler(torch.arange(num_train, num_examples))\n",
        "\n",
        "train_dataloader = GraphDataLoader(dataset, sampler=train_sampler, batch_size=32, drop_last=False)\n",
        "test_dataloader = GraphDataLoader(\n",
        "    dataset, sampler=test_sampler, batch_size=32, drop_last=False\n",
        ")\n",
        "\n",
        "print(f'\\nNumber of graphs in training set: {len(train_sampler)}')\n",
        "print(f'Number of graphs in test set: {len(test_sampler)}')"
      ],
      "metadata": {
        "colab": {
          "base_uri": "https://localhost:8080/",
          "height": 0
        },
        "id": "aZ5jDfeAixYp",
        "outputId": "7562cac8-6ea8-435e-ed1d-e62413209d90"
      },
      "execution_count": 12,
      "outputs": [
        {
          "output_type": "stream",
          "name": "stdout",
          "text": [
            "\n",
            "Number of graphs in training set: 890\n",
            "Number of graphs in test set: 223\n"
          ]
        }
      ]
    },
    {
      "cell_type": "markdown",
      "source": [
        "Iterate over the created GraphDataLoader"
      ],
      "metadata": {
        "id": "UJWhWCDGjz3Q"
      }
    },
    {
      "cell_type": "code",
      "source": [
        "it = iter(train_dataloader)\n",
        "batch = next(it)\n",
        "print(batch)"
      ],
      "metadata": {
        "id": "DyRAHt6pj5Ut",
        "colab": {
          "base_uri": "https://localhost:8080/",
          "height": 0
        },
        "outputId": "89e183a5-3c6c-4b4d-abff-05497f8767fd"
      },
      "execution_count": 13,
      "outputs": [
        {
          "output_type": "stream",
          "name": "stdout",
          "text": [
            "[Graph(num_nodes=797, num_edges=3891,\n",
            "      ndata_schemes={'label': Scheme(shape=(), dtype=torch.int64), 'attr': Scheme(shape=(3,), dtype=torch.float32)}\n",
            "      edata_schemes={}), tensor([1, 0, 0, 0, 0, 1, 1, 0, 0, 0, 0, 0, 1, 0, 0, 0, 0, 0, 0, 0, 0, 1, 0, 0,\n",
            "        0, 1, 1, 1, 0, 0, 1, 0])]\n"
          ]
        }
      ]
    },
    {
      "cell_type": "markdown",
      "metadata": {
        "id": "Ih2ZtylYArJ1"
      },
      "source": [
        "### 2.2. DataLoaders\n",
        "\n",
        "GraphDataLoaders are used to efficiently load and batch graph data for training.\n",
        "It shows the structure of a batched graph and demonstrate how the `GraphDataLoader` provides data in mini-batches for efficient processing during training."
      ]
    },
    {
      "cell_type": "code",
      "source": [
        "batched_graph, labels = batch\n",
        "print(\n",
        "    \"Number of nodes for each graph element in the batch:\",\n",
        "    batched_graph.batch_num_nodes(),\n",
        ")\n",
        "print(\n",
        "    \"Number of edges for each graph element in the batch:\",\n",
        "    batched_graph.batch_num_edges(),\n",
        ")\n",
        "\n",
        "# Recover the original graph elements from the minibatch\n",
        "graphs = dgl.unbatch(batched_graph)\n",
        "print(\"The original graphs in the minibatch:\")\n",
        "print(graphs)"
      ],
      "metadata": {
        "colab": {
          "base_uri": "https://localhost:8080/",
          "height": 0
        },
        "id": "YdKuAXl_jQPz",
        "outputId": "70282491-a9e9-4ac8-c361-8313e6079abc"
      },
      "execution_count": 14,
      "outputs": [
        {
          "output_type": "stream",
          "name": "stdout",
          "text": [
            "Number of nodes for each graph element in the batch: tensor([17, 27, 59, 12, 48, 16, 11, 16, 15, 36, 88, 14, 12, 30, 17, 30, 14, 11,\n",
            "        21, 42, 19,  6, 12, 39, 27, 13,  9, 13, 18, 82,  7, 16])\n",
            "Number of edges for each graph element in the batch: tensor([ 81, 149, 261,  58, 242,  88,  49,  68,  65, 166, 460,  62,  56, 136,\n",
            "         91, 134,  64,  53, 117, 204,  81,  28,  54, 201, 133,  57,  43,  57,\n",
            "         94, 424,  35,  80])\n",
            "The original graphs in the minibatch:\n",
            "[Graph(num_nodes=17, num_edges=81,\n",
            "      ndata_schemes={'label': Scheme(shape=(), dtype=torch.int64), 'attr': Scheme(shape=(3,), dtype=torch.float32)}\n",
            "      edata_schemes={}), Graph(num_nodes=27, num_edges=149,\n",
            "      ndata_schemes={'label': Scheme(shape=(), dtype=torch.int64), 'attr': Scheme(shape=(3,), dtype=torch.float32)}\n",
            "      edata_schemes={}), Graph(num_nodes=59, num_edges=261,\n",
            "      ndata_schemes={'label': Scheme(shape=(), dtype=torch.int64), 'attr': Scheme(shape=(3,), dtype=torch.float32)}\n",
            "      edata_schemes={}), Graph(num_nodes=12, num_edges=58,\n",
            "      ndata_schemes={'label': Scheme(shape=(), dtype=torch.int64), 'attr': Scheme(shape=(3,), dtype=torch.float32)}\n",
            "      edata_schemes={}), Graph(num_nodes=48, num_edges=242,\n",
            "      ndata_schemes={'label': Scheme(shape=(), dtype=torch.int64), 'attr': Scheme(shape=(3,), dtype=torch.float32)}\n",
            "      edata_schemes={}), Graph(num_nodes=16, num_edges=88,\n",
            "      ndata_schemes={'label': Scheme(shape=(), dtype=torch.int64), 'attr': Scheme(shape=(3,), dtype=torch.float32)}\n",
            "      edata_schemes={}), Graph(num_nodes=11, num_edges=49,\n",
            "      ndata_schemes={'label': Scheme(shape=(), dtype=torch.int64), 'attr': Scheme(shape=(3,), dtype=torch.float32)}\n",
            "      edata_schemes={}), Graph(num_nodes=16, num_edges=68,\n",
            "      ndata_schemes={'label': Scheme(shape=(), dtype=torch.int64), 'attr': Scheme(shape=(3,), dtype=torch.float32)}\n",
            "      edata_schemes={}), Graph(num_nodes=15, num_edges=65,\n",
            "      ndata_schemes={'label': Scheme(shape=(), dtype=torch.int64), 'attr': Scheme(shape=(3,), dtype=torch.float32)}\n",
            "      edata_schemes={}), Graph(num_nodes=36, num_edges=166,\n",
            "      ndata_schemes={'label': Scheme(shape=(), dtype=torch.int64), 'attr': Scheme(shape=(3,), dtype=torch.float32)}\n",
            "      edata_schemes={}), Graph(num_nodes=88, num_edges=460,\n",
            "      ndata_schemes={'label': Scheme(shape=(), dtype=torch.int64), 'attr': Scheme(shape=(3,), dtype=torch.float32)}\n",
            "      edata_schemes={}), Graph(num_nodes=14, num_edges=62,\n",
            "      ndata_schemes={'label': Scheme(shape=(), dtype=torch.int64), 'attr': Scheme(shape=(3,), dtype=torch.float32)}\n",
            "      edata_schemes={}), Graph(num_nodes=12, num_edges=56,\n",
            "      ndata_schemes={'label': Scheme(shape=(), dtype=torch.int64), 'attr': Scheme(shape=(3,), dtype=torch.float32)}\n",
            "      edata_schemes={}), Graph(num_nodes=30, num_edges=136,\n",
            "      ndata_schemes={'label': Scheme(shape=(), dtype=torch.int64), 'attr': Scheme(shape=(3,), dtype=torch.float32)}\n",
            "      edata_schemes={}), Graph(num_nodes=17, num_edges=91,\n",
            "      ndata_schemes={'label': Scheme(shape=(), dtype=torch.int64), 'attr': Scheme(shape=(3,), dtype=torch.float32)}\n",
            "      edata_schemes={}), Graph(num_nodes=30, num_edges=134,\n",
            "      ndata_schemes={'label': Scheme(shape=(), dtype=torch.int64), 'attr': Scheme(shape=(3,), dtype=torch.float32)}\n",
            "      edata_schemes={}), Graph(num_nodes=14, num_edges=64,\n",
            "      ndata_schemes={'label': Scheme(shape=(), dtype=torch.int64), 'attr': Scheme(shape=(3,), dtype=torch.float32)}\n",
            "      edata_schemes={}), Graph(num_nodes=11, num_edges=53,\n",
            "      ndata_schemes={'label': Scheme(shape=(), dtype=torch.int64), 'attr': Scheme(shape=(3,), dtype=torch.float32)}\n",
            "      edata_schemes={}), Graph(num_nodes=21, num_edges=117,\n",
            "      ndata_schemes={'label': Scheme(shape=(), dtype=torch.int64), 'attr': Scheme(shape=(3,), dtype=torch.float32)}\n",
            "      edata_schemes={}), Graph(num_nodes=42, num_edges=204,\n",
            "      ndata_schemes={'label': Scheme(shape=(), dtype=torch.int64), 'attr': Scheme(shape=(3,), dtype=torch.float32)}\n",
            "      edata_schemes={}), Graph(num_nodes=19, num_edges=81,\n",
            "      ndata_schemes={'label': Scheme(shape=(), dtype=torch.int64), 'attr': Scheme(shape=(3,), dtype=torch.float32)}\n",
            "      edata_schemes={}), Graph(num_nodes=6, num_edges=28,\n",
            "      ndata_schemes={'label': Scheme(shape=(), dtype=torch.int64), 'attr': Scheme(shape=(3,), dtype=torch.float32)}\n",
            "      edata_schemes={}), Graph(num_nodes=12, num_edges=54,\n",
            "      ndata_schemes={'label': Scheme(shape=(), dtype=torch.int64), 'attr': Scheme(shape=(3,), dtype=torch.float32)}\n",
            "      edata_schemes={}), Graph(num_nodes=39, num_edges=201,\n",
            "      ndata_schemes={'label': Scheme(shape=(), dtype=torch.int64), 'attr': Scheme(shape=(3,), dtype=torch.float32)}\n",
            "      edata_schemes={}), Graph(num_nodes=27, num_edges=133,\n",
            "      ndata_schemes={'label': Scheme(shape=(), dtype=torch.int64), 'attr': Scheme(shape=(3,), dtype=torch.float32)}\n",
            "      edata_schemes={}), Graph(num_nodes=13, num_edges=57,\n",
            "      ndata_schemes={'label': Scheme(shape=(), dtype=torch.int64), 'attr': Scheme(shape=(3,), dtype=torch.float32)}\n",
            "      edata_schemes={}), Graph(num_nodes=9, num_edges=43,\n",
            "      ndata_schemes={'label': Scheme(shape=(), dtype=torch.int64), 'attr': Scheme(shape=(3,), dtype=torch.float32)}\n",
            "      edata_schemes={}), Graph(num_nodes=13, num_edges=57,\n",
            "      ndata_schemes={'label': Scheme(shape=(), dtype=torch.int64), 'attr': Scheme(shape=(3,), dtype=torch.float32)}\n",
            "      edata_schemes={}), Graph(num_nodes=18, num_edges=94,\n",
            "      ndata_schemes={'label': Scheme(shape=(), dtype=torch.int64), 'attr': Scheme(shape=(3,), dtype=torch.float32)}\n",
            "      edata_schemes={}), Graph(num_nodes=82, num_edges=424,\n",
            "      ndata_schemes={'label': Scheme(shape=(), dtype=torch.int64), 'attr': Scheme(shape=(3,), dtype=torch.float32)}\n",
            "      edata_schemes={}), Graph(num_nodes=7, num_edges=35,\n",
            "      ndata_schemes={'label': Scheme(shape=(), dtype=torch.int64), 'attr': Scheme(shape=(3,), dtype=torch.float32)}\n",
            "      edata_schemes={}), Graph(num_nodes=16, num_edges=80,\n",
            "      ndata_schemes={'label': Scheme(shape=(), dtype=torch.int64), 'attr': Scheme(shape=(3,), dtype=torch.float32)}\n",
            "      edata_schemes={})]\n"
          ]
        }
      ]
    },
    {
      "cell_type": "markdown",
      "source": [
        "dgl.unbatch is used here to demonstrate how the individual graphs within a batched graph can be recovered, illustrating the composition of the batched structure."
      ],
      "metadata": {
        "id": "d7G4W7BDDujf"
      }
    },
    {
      "cell_type": "code",
      "source": [
        "# Example of batched graph:\n",
        "batched_graph, labels = batch\n",
        "print(\n",
        "    \"Number of nodes for each graph element in the batch:\",\n",
        "    batched_graph.batch_num_nodes(),\n",
        ")\n",
        "print(\n",
        "    \"Number of edges for each graph element in the batch:\",\n",
        "    batched_graph.batch_num_edges(),\n",
        ")\n",
        "\n",
        "# Recover the original graph elements from the minibatch\n",
        "graphs = dgl.unbatch(batched_graph)\n",
        "print(\"The original graphs in the minibatch:\")\n",
        "print(graphs)"
      ],
      "metadata": {
        "id": "gBXjXO7ZlkGd",
        "colab": {
          "base_uri": "https://localhost:8080/",
          "height": 0
        },
        "outputId": "f644cac6-f274-45a7-b67c-f6cc27acf108"
      },
      "execution_count": 15,
      "outputs": [
        {
          "output_type": "stream",
          "name": "stdout",
          "text": [
            "Number of nodes for each graph element in the batch: tensor([17, 27, 59, 12, 48, 16, 11, 16, 15, 36, 88, 14, 12, 30, 17, 30, 14, 11,\n",
            "        21, 42, 19,  6, 12, 39, 27, 13,  9, 13, 18, 82,  7, 16])\n",
            "Number of edges for each graph element in the batch: tensor([ 81, 149, 261,  58, 242,  88,  49,  68,  65, 166, 460,  62,  56, 136,\n",
            "         91, 134,  64,  53, 117, 204,  81,  28,  54, 201, 133,  57,  43,  57,\n",
            "         94, 424,  35,  80])\n",
            "The original graphs in the minibatch:\n",
            "[Graph(num_nodes=17, num_edges=81,\n",
            "      ndata_schemes={'label': Scheme(shape=(), dtype=torch.int64), 'attr': Scheme(shape=(3,), dtype=torch.float32)}\n",
            "      edata_schemes={}), Graph(num_nodes=27, num_edges=149,\n",
            "      ndata_schemes={'label': Scheme(shape=(), dtype=torch.int64), 'attr': Scheme(shape=(3,), dtype=torch.float32)}\n",
            "      edata_schemes={}), Graph(num_nodes=59, num_edges=261,\n",
            "      ndata_schemes={'label': Scheme(shape=(), dtype=torch.int64), 'attr': Scheme(shape=(3,), dtype=torch.float32)}\n",
            "      edata_schemes={}), Graph(num_nodes=12, num_edges=58,\n",
            "      ndata_schemes={'label': Scheme(shape=(), dtype=torch.int64), 'attr': Scheme(shape=(3,), dtype=torch.float32)}\n",
            "      edata_schemes={}), Graph(num_nodes=48, num_edges=242,\n",
            "      ndata_schemes={'label': Scheme(shape=(), dtype=torch.int64), 'attr': Scheme(shape=(3,), dtype=torch.float32)}\n",
            "      edata_schemes={}), Graph(num_nodes=16, num_edges=88,\n",
            "      ndata_schemes={'label': Scheme(shape=(), dtype=torch.int64), 'attr': Scheme(shape=(3,), dtype=torch.float32)}\n",
            "      edata_schemes={}), Graph(num_nodes=11, num_edges=49,\n",
            "      ndata_schemes={'label': Scheme(shape=(), dtype=torch.int64), 'attr': Scheme(shape=(3,), dtype=torch.float32)}\n",
            "      edata_schemes={}), Graph(num_nodes=16, num_edges=68,\n",
            "      ndata_schemes={'label': Scheme(shape=(), dtype=torch.int64), 'attr': Scheme(shape=(3,), dtype=torch.float32)}\n",
            "      edata_schemes={}), Graph(num_nodes=15, num_edges=65,\n",
            "      ndata_schemes={'label': Scheme(shape=(), dtype=torch.int64), 'attr': Scheme(shape=(3,), dtype=torch.float32)}\n",
            "      edata_schemes={}), Graph(num_nodes=36, num_edges=166,\n",
            "      ndata_schemes={'label': Scheme(shape=(), dtype=torch.int64), 'attr': Scheme(shape=(3,), dtype=torch.float32)}\n",
            "      edata_schemes={}), Graph(num_nodes=88, num_edges=460,\n",
            "      ndata_schemes={'label': Scheme(shape=(), dtype=torch.int64), 'attr': Scheme(shape=(3,), dtype=torch.float32)}\n",
            "      edata_schemes={}), Graph(num_nodes=14, num_edges=62,\n",
            "      ndata_schemes={'label': Scheme(shape=(), dtype=torch.int64), 'attr': Scheme(shape=(3,), dtype=torch.float32)}\n",
            "      edata_schemes={}), Graph(num_nodes=12, num_edges=56,\n",
            "      ndata_schemes={'label': Scheme(shape=(), dtype=torch.int64), 'attr': Scheme(shape=(3,), dtype=torch.float32)}\n",
            "      edata_schemes={}), Graph(num_nodes=30, num_edges=136,\n",
            "      ndata_schemes={'label': Scheme(shape=(), dtype=torch.int64), 'attr': Scheme(shape=(3,), dtype=torch.float32)}\n",
            "      edata_schemes={}), Graph(num_nodes=17, num_edges=91,\n",
            "      ndata_schemes={'label': Scheme(shape=(), dtype=torch.int64), 'attr': Scheme(shape=(3,), dtype=torch.float32)}\n",
            "      edata_schemes={}), Graph(num_nodes=30, num_edges=134,\n",
            "      ndata_schemes={'label': Scheme(shape=(), dtype=torch.int64), 'attr': Scheme(shape=(3,), dtype=torch.float32)}\n",
            "      edata_schemes={}), Graph(num_nodes=14, num_edges=64,\n",
            "      ndata_schemes={'label': Scheme(shape=(), dtype=torch.int64), 'attr': Scheme(shape=(3,), dtype=torch.float32)}\n",
            "      edata_schemes={}), Graph(num_nodes=11, num_edges=53,\n",
            "      ndata_schemes={'label': Scheme(shape=(), dtype=torch.int64), 'attr': Scheme(shape=(3,), dtype=torch.float32)}\n",
            "      edata_schemes={}), Graph(num_nodes=21, num_edges=117,\n",
            "      ndata_schemes={'label': Scheme(shape=(), dtype=torch.int64), 'attr': Scheme(shape=(3,), dtype=torch.float32)}\n",
            "      edata_schemes={}), Graph(num_nodes=42, num_edges=204,\n",
            "      ndata_schemes={'label': Scheme(shape=(), dtype=torch.int64), 'attr': Scheme(shape=(3,), dtype=torch.float32)}\n",
            "      edata_schemes={}), Graph(num_nodes=19, num_edges=81,\n",
            "      ndata_schemes={'label': Scheme(shape=(), dtype=torch.int64), 'attr': Scheme(shape=(3,), dtype=torch.float32)}\n",
            "      edata_schemes={}), Graph(num_nodes=6, num_edges=28,\n",
            "      ndata_schemes={'label': Scheme(shape=(), dtype=torch.int64), 'attr': Scheme(shape=(3,), dtype=torch.float32)}\n",
            "      edata_schemes={}), Graph(num_nodes=12, num_edges=54,\n",
            "      ndata_schemes={'label': Scheme(shape=(), dtype=torch.int64), 'attr': Scheme(shape=(3,), dtype=torch.float32)}\n",
            "      edata_schemes={}), Graph(num_nodes=39, num_edges=201,\n",
            "      ndata_schemes={'label': Scheme(shape=(), dtype=torch.int64), 'attr': Scheme(shape=(3,), dtype=torch.float32)}\n",
            "      edata_schemes={}), Graph(num_nodes=27, num_edges=133,\n",
            "      ndata_schemes={'label': Scheme(shape=(), dtype=torch.int64), 'attr': Scheme(shape=(3,), dtype=torch.float32)}\n",
            "      edata_schemes={}), Graph(num_nodes=13, num_edges=57,\n",
            "      ndata_schemes={'label': Scheme(shape=(), dtype=torch.int64), 'attr': Scheme(shape=(3,), dtype=torch.float32)}\n",
            "      edata_schemes={}), Graph(num_nodes=9, num_edges=43,\n",
            "      ndata_schemes={'label': Scheme(shape=(), dtype=torch.int64), 'attr': Scheme(shape=(3,), dtype=torch.float32)}\n",
            "      edata_schemes={}), Graph(num_nodes=13, num_edges=57,\n",
            "      ndata_schemes={'label': Scheme(shape=(), dtype=torch.int64), 'attr': Scheme(shape=(3,), dtype=torch.float32)}\n",
            "      edata_schemes={}), Graph(num_nodes=18, num_edges=94,\n",
            "      ndata_schemes={'label': Scheme(shape=(), dtype=torch.int64), 'attr': Scheme(shape=(3,), dtype=torch.float32)}\n",
            "      edata_schemes={}), Graph(num_nodes=82, num_edges=424,\n",
            "      ndata_schemes={'label': Scheme(shape=(), dtype=torch.int64), 'attr': Scheme(shape=(3,), dtype=torch.float32)}\n",
            "      edata_schemes={}), Graph(num_nodes=7, num_edges=35,\n",
            "      ndata_schemes={'label': Scheme(shape=(), dtype=torch.int64), 'attr': Scheme(shape=(3,), dtype=torch.float32)}\n",
            "      edata_schemes={}), Graph(num_nodes=16, num_edges=80,\n",
            "      ndata_schemes={'label': Scheme(shape=(), dtype=torch.int64), 'attr': Scheme(shape=(3,), dtype=torch.float32)}\n",
            "      edata_schemes={})]\n"
          ]
        }
      ]
    },
    {
      "cell_type": "markdown",
      "source": [
        "### 3. Define the Model:\n",
        "We initially started with a simpler GCN model and progressively added more layers and dropout to improve performance and combat overfitting. The current model is a three-layer GCN with a dropout layer after each hidden layer."
      ],
      "metadata": {
        "id": "mYGOb0SFgz4b"
      }
    },
    {
      "cell_type": "code",
      "source": [
        "from dgl.nn import GraphConv\n",
        "import torch.nn.functional as F\n",
        "\n",
        "class GCN(nn.Module):\n",
        "    def __init__(self, in_feats, h_feats, num_classes, dropout_prob=0.7): # Increased dropout probability\n",
        "        super(GCN, self).__init__()\n",
        "        self.conv1 = GraphConv(in_feats, h_feats)\n",
        "        self.conv2 = GraphConv(h_feats, h_feats)\n",
        "        self.conv3 = GraphConv(h_feats, num_classes)\n",
        "        self.dropout = nn.Dropout(dropout_prob)\n",
        "\n",
        "    def forward(self, g, in_feat):\n",
        "        h = self.conv1(g, in_feat)\n",
        "        h = F.relu(h)\n",
        "        h = self.dropout(h)\n",
        "        h = self.conv2(g, h)\n",
        "        h = F.relu(h)\n",
        "        h = self.dropout(h)\n",
        "        h = self.conv3(g, h)\n",
        "        g.ndata[\"h\"] = h\n",
        "        return dgl.mean_nodes(g, \"h\")"
      ],
      "metadata": {
        "id": "HczJH0R5l6MT"
      },
      "execution_count": 44,
      "outputs": []
    },
    {
      "cell_type": "markdown",
      "source": [
        "### 4. Training Loop\n",
        "The training loop iterates over the training set with the GraphDataLoader object and computes the gradients."
      ],
      "metadata": {
        "id": "Of3pO4A5mVRw"
      }
    },
    {
      "cell_type": "code",
      "source": [
        "# Create the model with given dimensions\n",
        "model = GCN(dataset.dim_nfeats, 16, dataset.gclasses)\n",
        "# Change optimizer to AdamW with weight decay\n",
        "optimizer = torch.optim.AdamW(model.parameters(), lr=0.01, weight_decay=0.0001)\n",
        "\n",
        "train_losses = []\n",
        "test_accuracies = []\n",
        "epochs = 50 # Number of training epochs\n",
        "\n",
        "for epoch in range(epochs):\n",
        "    model.train() # Set model to training mode\n",
        "    epoch_train_loss = 0.0 # Accumulate loss for the current epoch\n",
        "\n",
        "    for batched_graph, labels in train_dataloader:\n",
        "        pred = model(batched_graph, batched_graph.ndata[\"attr\"].float())\n",
        "        loss = F.cross_entropy(pred, labels)\n",
        "\n",
        "        optimizer.zero_grad()\n",
        "        loss.backward()\n",
        "        optimizer.step()\n",
        "\n",
        "        epoch_train_loss += loss.item() * len(labels) # Sum loss weighted by batch size\n",
        "\n",
        "    avg_train_loss = epoch_train_loss / num_train # Calculate average loss for the epoch\n",
        "    train_losses.append(avg_train_loss) # Store for plotting\n",
        "\n",
        "    # Evaluate on the test set after each epoch\n",
        "    model.eval() # Set model to evaluation mode\n",
        "    num_correct = 0\n",
        "    num_tests = 0\n",
        "    with torch.no_grad(): # Disable gradient calculations for evaluation\n",
        "        for batched_graph, labels in test_dataloader:\n",
        "            pred = model(batched_graph, batched_graph.ndata[\"attr\"].float())\n",
        "            num_correct += (pred.argmax(1) == labels).sum().item()\n",
        "            num_tests += len(labels)\n",
        "\n",
        "    current_test_accuracy = num_correct / num_tests\n",
        "    test_accuracies.append(current_test_accuracy) # Store for plotting\n",
        "\n",
        "    # Print epoch-wise progress\n",
        "    print(f\"Epoch {epoch + 1:02d}/{epochs} | Train Loss: {avg_train_loss:.4f} | Test Accuracy: {current_test_accuracy:.4f}\")"
      ],
      "metadata": {
        "id": "N6SKA5symaZN",
        "colab": {
          "base_uri": "https://localhost:8080/",
          "height": 0
        },
        "outputId": "0c7eff76-0dfb-484d-dfb2-a3c11a34cbb4"
      },
      "execution_count": 47,
      "outputs": [
        {
          "output_type": "stream",
          "name": "stdout",
          "text": [
            "Epoch 01/50 | Train Loss: 0.5833 | Test Accuracy: 0.0000\n",
            "Epoch 02/50 | Train Loss: 0.5796 | Test Accuracy: 0.0000\n",
            "Epoch 03/50 | Train Loss: 0.5704 | Test Accuracy: 0.0000\n",
            "Epoch 04/50 | Train Loss: 0.5578 | Test Accuracy: 0.0000\n",
            "Epoch 05/50 | Train Loss: 0.5570 | Test Accuracy: 0.0583\n",
            "Epoch 06/50 | Train Loss: 0.5525 | Test Accuracy: 0.0538\n",
            "Epoch 07/50 | Train Loss: 0.5537 | Test Accuracy: 0.0000\n",
            "Epoch 08/50 | Train Loss: 0.5484 | Test Accuracy: 0.0000\n",
            "Epoch 09/50 | Train Loss: 0.5406 | Test Accuracy: 0.0583\n",
            "Epoch 10/50 | Train Loss: 0.5356 | Test Accuracy: 0.0762\n",
            "Epoch 11/50 | Train Loss: 0.5423 | Test Accuracy: 0.0000\n",
            "Epoch 12/50 | Train Loss: 0.5420 | Test Accuracy: 0.0000\n",
            "Epoch 13/50 | Train Loss: 0.5431 | Test Accuracy: 0.0000\n",
            "Epoch 14/50 | Train Loss: 0.5211 | Test Accuracy: 0.1031\n",
            "Epoch 15/50 | Train Loss: 0.5226 | Test Accuracy: 0.0852\n",
            "Epoch 16/50 | Train Loss: 0.5450 | Test Accuracy: 0.0000\n",
            "Epoch 17/50 | Train Loss: 0.5447 | Test Accuracy: 0.0852\n",
            "Epoch 18/50 | Train Loss: 0.5299 | Test Accuracy: 0.0852\n",
            "Epoch 19/50 | Train Loss: 0.5295 | Test Accuracy: 0.2422\n",
            "Epoch 20/50 | Train Loss: 0.5220 | Test Accuracy: 0.1704\n",
            "Epoch 21/50 | Train Loss: 0.5284 | Test Accuracy: 0.1345\n",
            "Epoch 22/50 | Train Loss: 0.5279 | Test Accuracy: 0.3453\n",
            "Epoch 23/50 | Train Loss: 0.5312 | Test Accuracy: 0.0000\n",
            "Epoch 24/50 | Train Loss: 0.5253 | Test Accuracy: 0.0852\n",
            "Epoch 25/50 | Train Loss: 0.5264 | Test Accuracy: 0.0000\n",
            "Epoch 26/50 | Train Loss: 0.5361 | Test Accuracy: 0.1211\n",
            "Epoch 27/50 | Train Loss: 0.5248 | Test Accuracy: 0.2691\n",
            "Epoch 28/50 | Train Loss: 0.5115 | Test Accuracy: 0.3139\n",
            "Epoch 29/50 | Train Loss: 0.5300 | Test Accuracy: 0.0538\n",
            "Epoch 30/50 | Train Loss: 0.5229 | Test Accuracy: 0.1076\n",
            "Epoch 31/50 | Train Loss: 0.5297 | Test Accuracy: 0.3184\n",
            "Epoch 32/50 | Train Loss: 0.5352 | Test Accuracy: 0.0493\n",
            "Epoch 33/50 | Train Loss: 0.5350 | Test Accuracy: 0.0673\n",
            "Epoch 34/50 | Train Loss: 0.5190 | Test Accuracy: 0.2870\n",
            "Epoch 35/50 | Train Loss: 0.5398 | Test Accuracy: 0.2466\n",
            "Epoch 36/50 | Train Loss: 0.5317 | Test Accuracy: 0.0717\n",
            "Epoch 37/50 | Train Loss: 0.5248 | Test Accuracy: 0.2601\n",
            "Epoch 38/50 | Train Loss: 0.5303 | Test Accuracy: 0.0583\n",
            "Epoch 39/50 | Train Loss: 0.5245 | Test Accuracy: 0.3139\n",
            "Epoch 40/50 | Train Loss: 0.5262 | Test Accuracy: 0.3139\n",
            "Epoch 41/50 | Train Loss: 0.5259 | Test Accuracy: 0.1345\n",
            "Epoch 42/50 | Train Loss: 0.5137 | Test Accuracy: 0.1659\n",
            "Epoch 43/50 | Train Loss: 0.5307 | Test Accuracy: 0.1480\n",
            "Epoch 44/50 | Train Loss: 0.5212 | Test Accuracy: 0.2332\n",
            "Epoch 45/50 | Train Loss: 0.5278 | Test Accuracy: 0.3049\n",
            "Epoch 46/50 | Train Loss: 0.5300 | Test Accuracy: 0.0000\n",
            "Epoch 47/50 | Train Loss: 0.5235 | Test Accuracy: 0.2332\n",
            "Epoch 48/50 | Train Loss: 0.5113 | Test Accuracy: 0.2960\n",
            "Epoch 49/50 | Train Loss: 0.5198 | Test Accuracy: 0.1480\n",
            "Epoch 50/50 | Train Loss: 0.5157 | Test Accuracy: 0.0987\n"
          ]
        }
      ]
    },
    {
      "cell_type": "code",
      "source": [
        "# Final evaluation on the test set\n",
        "final_num_correct = 0\n",
        "final_num_tests = 0\n",
        "model.eval() # Ensure model is in eval mode\n",
        "with torch.no_grad():\n",
        "    for batched_graph, labels in test_dataloader:\n",
        "        pred = model(batched_graph, batched_graph.ndata[\"attr\"].float())\n",
        "        final_num_correct += (pred.argmax(1) == labels).sum().item()\n",
        "        final_num_tests += len(labels)\n",
        "\n",
        "final_test_accuracy = final_num_correct / final_num_tests\n",
        "print(f\"Final Test accuracy after {epochs} epochs: {final_test_accuracy:.4f}\")"
      ],
      "metadata": {
        "id": "--JM-v5bnn-S",
        "colab": {
          "base_uri": "https://localhost:8080/",
          "height": 0
        },
        "outputId": "66bed7a8-53f0-4dad-ac5b-2cac6a66f063"
      },
      "execution_count": 40,
      "outputs": [
        {
          "output_type": "stream",
          "name": "stdout",
          "text": [
            "Final Test accuracy after 50 epochs: 0.0852\n"
          ]
        }
      ]
    },
    {
      "cell_type": "markdown",
      "source": [
        "### 5. Visualization"
      ],
      "metadata": {
        "id": "SuDHHrEZnwdL"
      }
    },
    {
      "cell_type": "code",
      "source": [
        "# Plotting Loss and Accuracy\n",
        "plt.figure(figsize=(12, 5))\n",
        "\n",
        "# Plot Training Loss\n",
        "plt.subplot(1, 2, 1) # 1 row, 2 columns, first plot\n",
        "plt.plot(range(1, epochs + 1), train_losses, label='Train Loss', color='orange')\n",
        "plt.xlabel('Epoch')\n",
        "plt.ylabel('Loss')\n",
        "plt.title('Training Loss over Epochs')\n",
        "plt.legend()\n",
        "plt.grid(True)\n",
        "\n",
        "# Plot Test Accuracy\n",
        "plt.subplot(1, 2, 2) # 1 row, 2 columns, second plot\n",
        "plt.plot(range(1, epochs + 1), test_accuracies, label='Test Accuracy', color='blue')\n",
        "plt.xlabel('Epoch')\n",
        "plt.ylabel('Accuracy')\n",
        "plt.title('Test Accuracy over Epochs')\n",
        "plt.legend()\n",
        "plt.grid(True)\n",
        "\n",
        "plt.tight_layout() # Adjusts plot parameters for a tight layout\n",
        "plt.show() # Display the plots"
      ],
      "metadata": {
        "id": "q69wY67Snxkw",
        "colab": {
          "base_uri": "https://localhost:8080/",
          "height": 507
        },
        "outputId": "0e6bdceb-d8cf-4d49-e07c-997018501e81"
      },
      "execution_count": 48,
      "outputs": [
        {
          "output_type": "display_data",
          "data": {
            "text/plain": [
              "<Figure size 1200x500 with 2 Axes>"
            ],
            "image/png": "[encoded data removed]"
          },
          "metadata": {}
        }
      ]
    },
    {
      "cell_type": "markdown",
      "metadata": {
        "id": "b6196acf"
      },
      "source": [
        "Now we try to improve the accuracy of the GCN model for graph classification using the DGL library."
      ]
    },
    {
      "cell_type": "markdown",
      "metadata": {
        "id": "608d7384"
      },
      "source": [
        "### Review and adjust hyperparameters\n",
        "\n",
        "Experiment with different learning rates, hidden layer sizes, and number of training epochs to find a better combination for improving the accuracy of the GCN model.\n"
      ]
    },
    {
      "cell_type": "code",
      "metadata": {
        "colab": {
          "base_uri": "https://localhost:8080/",
          "height": 0
        },
        "id": "a9de698a",
        "outputId": "9c494daf-9978-41b4-ecbf-3d603855fbf4"
      },
      "source": [
        "learning_rates = [0.001, 0.01, 0.1]\n",
        "hidden_layer_sizes = [32, 64, 128]\n",
        "epochs_list = [50, 100, 200]\n",
        "\n",
        "best_accuracy = 0\n",
        "best_params = {}\n",
        "\n",
        "for lr in learning_rates:\n",
        "    for h_feats in hidden_layer_sizes:\n",
        "        for epochs in epochs_list:\n",
        "            print(f\"Training with LR: {lr}, Hidden Size: {h_feats}, Epochs: {epochs}\")\n",
        "\n",
        "            model = GCN(dataset.dim_nfeats, h_feats, dataset.gclasses)\n",
        "            optimizer = torch.optim.Adam(model.parameters(), lr=lr)\n",
        "\n",
        "            for epoch in range(epochs):\n",
        "                model.train()\n",
        "                for batched_graph, labels in train_dataloader:\n",
        "                    pred = model(batched_graph, batched_graph.ndata[\"attr\"].float())\n",
        "                    loss = F.cross_entropy(pred, labels)\n",
        "\n",
        "                    optimizer.zero_grad()\n",
        "                    loss.backward()\n",
        "                    optimizer.step()\n",
        "\n",
        "            # Evaluate on the test set\n",
        "            model.eval()\n",
        "            num_correct = 0\n",
        "            num_tests = 0\n",
        "            with torch.no_grad():\n",
        "                for batched_graph, labels in test_dataloader:\n",
        "                    pred = model(batched_graph, batched_graph.ndata[\"attr\"].float())\n",
        "                    num_correct += (pred.argmax(1) == labels).sum().item()\n",
        "                    num_tests += len(labels)\n",
        "\n",
        "            current_test_accuracy = num_correct / num_tests\n",
        "            print(f\"Test Accuracy: {current_test_accuracy:.4f}\")\n",
        "\n",
        "            if current_test_accuracy > best_accuracy:\n",
        "                best_accuracy = current_test_accuracy\n",
        "                best_params = {\"lr\": lr, \"hidden_size\": h_feats, \"epochs\": epochs}\n",
        "\n",
        "print(\"\\nBest performing hyperparameters:\")\n",
        "print(f\"Learning Rate: {best_params['lr']}\")\n",
        "print(f\"Hidden Layer Size: {best_params['hidden_size']}\")\n",
        "print(f\"Epochs: {best_params['epochs']}\")\n",
        "print(f\"Best Test Accuracy: {best_accuracy:.4f}\")"
      ],
      "execution_count": 22,
      "outputs": [
        {
          "metadata": {
            "tags": null
          },
          "name": "stdout",
          "output_type": "stream",
          "text": [
            "Training with LR: 0.001, Hidden Size: 32, Epochs: 50\n",
            "Test Accuracy: 0.0717\n",
            "Training with LR: 0.001, Hidden Size: 32, Epochs: 100\n",
            "Test Accuracy: 0.1166\n",
            "Training with LR: 0.001, Hidden Size: 32, Epochs: 200\n",
            "Test Accuracy: 0.2646\n",
            "Training with LR: 0.001, Hidden Size: 64, Epochs: 50\n",
            "Test Accuracy: 0.0897\n",
            "Training with LR: 0.001, Hidden Size: 64, Epochs: 100\n",
            "Test Accuracy: 0.2646\n",
            "Training with LR: 0.001, Hidden Size: 64, Epochs: 200\n",
            "Test Accuracy: 0.2915\n",
            "Training with LR: 0.001, Hidden Size: 128, Epochs: 50\n",
            "Test Accuracy: 0.0942\n",
            "Training with LR: 0.001, Hidden Size: 128, Epochs: 100\n",
            "Test Accuracy: 0.2691\n",
            "Training with LR: 0.001, Hidden Size: 128, Epochs: 200\n",
            "Test Accuracy: 0.2691\n",
            "Training with LR: 0.01, Hidden Size: 32, Epochs: 50\n",
            "Test Accuracy: 0.0717\n",
            "Training with LR: 0.01, Hidden Size: 32, Epochs: 100\n",
            "Test Accuracy: 0.2825\n",
            "Training with LR: 0.01, Hidden Size: 32, Epochs: 200\n",
            "Test Accuracy: 0.2915\n",
            "Training with LR: 0.01, Hidden Size: 64, Epochs: 50\n",
            "Test Accuracy: 0.3094\n",
            "Training with LR: 0.01, Hidden Size: 64, Epochs: 100\n",
            "Test Accuracy: 0.2691\n",
            "Training with LR: 0.01, Hidden Size: 64, Epochs: 200\n",
            "Test Accuracy: 0.1121\n",
            "Training with LR: 0.01, Hidden Size: 128, Epochs: 50\n",
            "Test Accuracy: 0.2466\n",
            "Training with LR: 0.01, Hidden Size: 128, Epochs: 100\n",
            "Test Accuracy: 0.1076\n",
            "Training with LR: 0.01, Hidden Size: 128, Epochs: 200\n",
            "Test Accuracy: 0.2735\n",
            "Training with LR: 0.1, Hidden Size: 32, Epochs: 50\n",
            "Test Accuracy: 0.3543\n",
            "Training with LR: 0.1, Hidden Size: 32, Epochs: 100\n",
            "Test Accuracy: 0.2332\n",
            "Training with LR: 0.1, Hidden Size: 32, Epochs: 200\n",
            "Test Accuracy: 0.1570\n",
            "Training with LR: 0.1, Hidden Size: 64, Epochs: 50\n",
            "Test Accuracy: 0.0000\n",
            "Training with LR: 0.1, Hidden Size: 64, Epochs: 100\n",
            "Test Accuracy: 0.0000\n",
            "Training with LR: 0.1, Hidden Size: 64, Epochs: 200\n",
            "Test Accuracy: 0.1883\n",
            "Training with LR: 0.1, Hidden Size: 128, Epochs: 50\n",
            "Test Accuracy: 0.0000\n",
            "Training with LR: 0.1, Hidden Size: 128, Epochs: 100\n",
            "Test Accuracy: 0.0000\n",
            "Training with LR: 0.1, Hidden Size: 128, Epochs: 200\n",
            "Test Accuracy: 0.1749\n",
            "\n",
            "Best performing hyperparameters:\n",
            "Learning Rate: 0.1\n",
            "Hidden Layer Size: 32\n",
            "Epochs: 50\n",
            "Best Test Accuracy: 0.3543\n"
          ]
        }
      ]
    },
    {
      "cell_type": "markdown",
      "metadata": {
        "id": "5df149a3"
      },
      "source": [
        "### Cross-Validation\n",
        "\n",
        "Let's implement k-fold cross-validation to get a more robust evaluation of the model's performance."
      ]
    },
    {
      "cell_type": "code",
      "metadata": {
        "colab": {
          "base_uri": "https://localhost:8080/",
          "height": 0
        },
        "id": "f1cc04a3",
        "outputId": "888e9ee4-98b5-40bc-b040-0f5460b17859"
      },
      "source": [
        "from sklearn.model_selection import KFold\n",
        "from torch.utils.data import Subset\n",
        "\n",
        "# Number of folds for cross-validation\n",
        "k_folds = 5\n",
        "kfold = KFold(n_splits=k_folds, shuffle=True, random_state=42)\n",
        "\n",
        "# Initialize lists to store results for each fold\n",
        "fold_results = {}\n",
        "fold_train_losses = []\n",
        "fold_test_accuracies = []\n",
        "\n",
        "# Get the dataset\n",
        "dataset = dgl.data.GINDataset(\"PROTEINS\", self_loop=True)\n",
        "\n",
        "# K-fold Cross Validation model training\n",
        "for fold, (train_ids, test_ids) in enumerate(kfold.split(dataset)):\n",
        "    print(f'--- Fold {fold+1} ---')\n",
        "\n",
        "    # Sample elements randomly from a given list of ids, no replacement.\n",
        "    train_subsampler = SubsetRandomSampler(train_ids)\n",
        "    test_subsampler = SubsetRandomSampler(test_ids)\n",
        "\n",
        "    # Define data loaders for training and testing data in this fold\n",
        "    train_dataloader = GraphDataLoader(\n",
        "        dataset, sampler=train_subsampler, batch_size=32, drop_last=False)\n",
        "    test_dataloader = GraphDataLoader(\n",
        "        dataset, sampler=test_subsampler, batch_size=32, drop_last=False)\n",
        "\n",
        "    # Initialize model and optimizer for the current fold\n",
        "    model = GCN(dataset.dim_nfeats, 16, dataset.gclasses, dropout_prob=0.7) # Using the updated GCN with dropout\n",
        "    optimizer = torch.optim.AdamW(model.parameters(), lr=0.01, weight_decay=0.0001) # Using AdamW with weight decay\n",
        "\n",
        "    # Training loop for the current fold\n",
        "    fold_train_loss = 0.0\n",
        "    epochs = 50 # Use the same number of epochs as before\n",
        "    for epoch in range(epochs):\n",
        "        model.train()\n",
        "        for batched_graph, labels in train_dataloader:\n",
        "            pred = model(batched_graph, batched_graph.ndata[\"attr\"].float())\n",
        "            loss = F.cross_entropy(pred, labels)\n",
        "\n",
        "            optimizer.zero_grad()\n",
        "            loss.backward()\n",
        "            optimizer.step()\n",
        "\n",
        "            fold_train_loss += loss.item() * len(labels)\n",
        "\n",
        "    # Evaluation for the current fold\n",
        "    model.eval()\n",
        "    num_correct = 0\n",
        "    num_tests = 0\n",
        "    with torch.no_grad():\n",
        "        for batched_graph, labels in test_dataloader:\n",
        "            pred = model(batched_graph, batched_graph.ndata[\"attr\"].float())\n",
        "            num_correct += (pred.argmax(1) == labels).sum().item()\n",
        "            num_tests += len(labels)\n",
        "\n",
        "    # Store results for the current fold\n",
        "    avg_train_loss = fold_train_loss / len(train_subsampler)\n",
        "    current_test_accuracy = num_correct / num_tests\n",
        "\n",
        "    fold_train_losses.append(avg_train_loss)\n",
        "    fold_test_accuracies.append(current_test_accuracy)\n",
        "\n",
        "    print(f'Fold {fold+1} completed | Train Loss: {avg_train_loss:.4f} | Test Accuracy: {current_test_accuracy:.4f}')\n",
        "\n",
        "# Print average results\n",
        "print(f'\\nAverage Train Loss across {k_folds} folds: {sum(fold_train_losses)/k_folds:.4f}')\n",
        "print(f'Average Test Accuracy across {k_folds} folds: {sum(fold_test_accuracies)/k_folds:.4f}')"
      ],
      "execution_count": 49,
      "outputs": [
        {
          "output_type": "stream",
          "name": "stdout",
          "text": [
            "--- Fold 1 ---\n",
            "Fold 1 completed | Train Loss: 31.3878 | Test Accuracy: 0.6637\n",
            "--- Fold 2 ---\n",
            "Fold 2 completed | Train Loss: 32.3953 | Test Accuracy: 0.7668\n",
            "--- Fold 3 ---\n",
            "Fold 3 completed | Train Loss: 31.6567 | Test Accuracy: 0.6682\n",
            "--- Fold 4 ---\n",
            "Fold 4 completed | Train Loss: 31.6410 | Test Accuracy: 0.7207\n",
            "--- Fold 5 ---\n",
            "Fold 5 completed | Train Loss: 31.6998 | Test Accuracy: 0.6892\n",
            "\n",
            "Average Train Loss across 5 folds: 31.7561\n",
            "Average Test Accuracy across 5 folds: 0.7017\n"
          ]
        }
      ]
    },
    {
      "cell_type": "markdown",
      "metadata": {
        "id": "ebde0426"
      },
      "source": [
        "### Improving GCN Model Accuracy\n",
        "\n",
        "We aimed to improve the accuracy of the provided GCN model on the PROTEINS dataset.\n",
        "\n",
        "Our approach involved the following steps:\n",
        "\n",
        "1.  **Initial Model Evaluation**: We first evaluated the baseline GCN model using a single train-test split, which showed low and fluctuating test accuracy.\n",
        "2.  **Hyperparameter Tuning**: We performed hyperparameter tuning by experimenting with different learning rates, hidden layer sizes, and number of training epochs. The best performing parameters found were Learning Rate: 0.1, Hidden Layer Size: 32, and Epochs: 50, which resulted in a Best Test Accuracy of 0.3543. As these results were not satisfying, we proceeded to explore other methods.\n",
        "3.  **Model Architecture Modification**: We modified the GCN model to include an additional graph convolutional layer, creating a 3-layer GCN.\n",
        "4.  **Regularization**: We implemented dropout layers and added weight decay to the optimizer to combat overfitting.\n",
        "5.  **Optimizer Change**: We switched the optimizer from Adam to AdamW.\n",
        "6.  **Cross-Validation**: To get a more robust and reliable evaluation of the model's performance, we implemented 5-fold cross-validation.\n",
        "\n",
        "The cross-validation results provided a more accurate measure of the model's generalization ability. The average test accuracy achieved across the 5 folds was **70.17%**. This demonstrates that the model, with the implemented modifications and evaluated using cross-validation, can achieve a significantly better and more consistent performance compared to the initial single train-test split evaluation."
      ]
    }
  ]
}
